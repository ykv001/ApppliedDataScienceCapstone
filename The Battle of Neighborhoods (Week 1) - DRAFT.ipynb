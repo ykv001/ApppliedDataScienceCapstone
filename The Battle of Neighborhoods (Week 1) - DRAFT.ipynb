{
 "cells": [
  {
   "cell_type": "markdown",
   "metadata": {},
   "source": [
    "# The Battle of Neighborhoods (Week 1) - DRAFT"
   ]
  },
  {
   "cell_type": "markdown",
   "metadata": {},
   "source": [
    "## Problem description and Discussion"
   ]
  },
  {
   "cell_type": "markdown",
   "metadata": {},
   "source": [
    "### Restaurants in Montreal-Toronto-Vancouver (Canada's Major Cities) - Commonalities?"
   ]
  },
  {
   "cell_type": "markdown",
   "metadata": {},
   "source": [
    "This project will try to find how different OR similar are the preference in restaurants in the neighbourhoods \n",
    "of the 3 biggest cities in Canada, Montreal, Toronto and Vancouver.\n",
    "\n",
    "Canada has 2 official languages, English and French. Being Quebec the only province where French is the first official language. Most of governement entities offer bilingual services across the country and French communities are present in many provinces.\n",
    "\n",
    "Being all the three multicultural metropolis, a big difference is not expected. But will be this the case? Vancouver posses a higher percentage of Asian background population. In Montreal the first official language is French. Vancouver and Toronto are English speaking cities. \n",
    "\n",
    "Knowing similarities among the restuarant can provide a deeper insight on the cultures of these metropolis."
   ]
  },
  {
   "cell_type": "markdown",
   "metadata": {},
   "source": [
    "## Data description"
   ]
  },
  {
   "cell_type": "markdown",
   "metadata": {},
   "source": [
    "The Foursquare API will be used to gather information about the restaurant types in the Neighbourhoods of Montreal, Toronto and Vancouver. The Data will be processed to find similarities, if more information is needed other resources will be explored (Open data Canada).\n",
    "\n",
    "The data gathered from the Fuorsquare API comes as a jason response to an REST API request:"
   ]
  },
  {
   "cell_type": "raw",
   "metadata": {},
   "source": [
    "    {'meta': {'code': 200, 'requestId': '5bc73eb4dd5797073f3cc6e2'},\n",
    " 'response': {'groups': [{'items': [{'reasons': {'count': 0,\n",
    "       'items': [{'reasonName': 'globalInteractionReason',\n",
    "         'summary': 'This spot is popular',\n",
    "         'type': 'general'}]},\n",
    "      'referralId': 'e-0-4ad9dce6f964a520651b21e3-0',\n",
    "      'venue': {'categories': [{'icon': {'prefix': 'https://ss3.4sqi.net/img/categories_v2/parks_outdoors/golfcourse_',\n",
    "          'suffix': '.png'},\n",
    "         'id': '4bf58dd8d48988d1e6941735',\n",
    "         'name': 'Golf Course',\n",
    "         'pluralName': 'Golf Courses',\n",
    "         'primary': True,\n",
    "         'shortName': 'Golf Course'}],\n",
    "       'id': '4ad9dce6f964a520651b21e3',\n",
    "       'location': {'address': '10000 Dufferin Rd',\n",
    "        'cc': 'CA',\n",
    "        'city': 'Toronto',\n",
    "        'country': 'Canada', ...       "
   ]
  },
  {
   "cell_type": "markdown",
   "metadata": {},
   "source": [
    "Other source of data to take into consideration are the Monthly survey of food services and drinking places. It is a\n",
    "a easonally adjusted receipts of monthly survey of food services and drinking places, by North American Industry Classification System (NAICS), monthly, for five months of data.\n",
    "\n",
    "Publisher - Current Organization Name: Statistics Canada\n",
    "Licence: Open Government Licence - Canada\n",
    "\n",
    "website: https://open.canada.ca/data/en/dataset/e4490f69-b289-4a90-ac53-108c0cef43c3\n",
    "\n",
    "The data comes in CSV, XML and HMTL formats:"
   ]
  },
  {
   "cell_type": "markdown",
   "metadata": {},
   "source": [
    "<table class=\"pub-table\"><caption class=\"wb-invisible\">This table displays the results of Monthly survey of food services and drinking places (x 1,000).<br>The table type is Simple.<br>The information is grouped by Geography (appearing as row headers).<br>For the column header, Row 1 is North American Industry Classification System (NAICS), Row 2 is Seasonal adjustment, Row 3 is Service detail, Row 4 is Reference period.<br></caption><thead><tr><th colspan=\"1\" class=\"del\"></th><th class=\"bannerHead col-group\" colspan=\"5\" id=\"1_1\">Total, food services and drinking places </th></tr><tr><th colspan=\"1\" class=\"del\"></th><th class=\"bannerHead col-group\" colspan=\"5\" id=\"2_1\">Unadjusted </th></tr><tr><th colspan=\"1\" class=\"del\"></th><th class=\"bannerHead col-group\" colspan=\"5\" id=\"3_1\">Receipts </th></tr><tr><th style=\"text-align:left;height:60px;\" id=\"4_1\">Geography</th><th style=\"font-weight:bold\" id=\"4_2\" headers=\" 1_1  2_1  3_1 \">April 2018</th><th style=\"font-weight:bold\" id=\"4_3\" headers=\" 1_1  2_1  3_1 \">May 2018</th><th style=\"font-weight:bold\" id=\"4_4\" headers=\" 1_1  2_1  3_1 \">June 2018</th><th style=\"font-weight:bold\" id=\"4_5\" headers=\" 1_1  2_1  3_1 \">July 2018</th><th style=\"font-weight:bold\" id=\"4_6\" headers=\" 1_1  2_1  3_1 \">August 2018</th></tr></thead><tbody><tr><th colspan=\"1\"></th><th class=\"uom-center bold\" id=\"5_1\" colspan=\"5\">Dollars</th></tr><tr class=\"highlight-row\"><th class=\"align-left stub-indent0\" headers=\" 1_1  2_1  3_1  5_1  4_1 \">Canada  <sup><a href=\"#Footnote3\" aria-controls=\"centred-popup\" class=\"wb-lbx\" role=\"button\" aria-label=\"Footnote 3\">3</a> </sup><a href=\"https://www150.statcan.gc.ca/g1/datatomap/index.html?action=wf_identify&value={'layers':[{'values':['2016A000011124'],'id':'A0000'}]}\"target=\"_blank\" title=\"Opens Canada map in a new tab window.\">(map)</a></th><td class=\"align-right nowrap\">5,659,607</td><td class=\"align-right nowrap\">6,198,517</td><td class=\"align-right nowrap\">6,413,242</td><td class=\"align-right nowrap\">6,556,130</td><td class=\"align-right nowrap\">6,654,701</td></tr><tr class=\"highlight-row\"><th class=\"align-left stub-indent1\" headers=\" 1_1  2_1  3_1  5_1  4_1 \">Newfoundland and Labrador  <a href=\"https://www150.statcan.gc.ca/g1/datatomap/index.html?action=wf_identify&value={'layers':[{'values':['2016A000210'],'id':'A0002'}]}\"target=\"_blank\" title=\"Opens Newfoundland and Labrador map in a new tab window.\">(map)</a></th><td class=\"align-right nowrap\">66,352</td><td class=\"align-right nowrap\">72,295</td><td class=\"align-right nowrap\">77,406</td><td class=\"align-right nowrap\">83,445</td><td class=\"align-right nowrap\">83,596</td></tr><tr class=\"highlight-row\"><th class=\"align-left stub-indent1\" headers=\" 1_1  2_1  3_1  5_1  4_1 \">Prince Edward Island  <a href=\"https://www150.statcan.gc.ca/g1/datatomap/index.html?action=wf_identify&value={'layers':[{'values':['2016A000211'],'id':'A0002'}]}\"target=\"_blank\" title=\"Opens Prince Edward Island map in a new tab window.\">(map)</a></th><td class=\"align-right nowrap\">19,228</td><td class=\"align-right nowrap\">20,894</td><td class=\"align-right nowrap\">24,806</td><td class=\"align-right nowrap\">34,541</td><td class=\"align-right nowrap\">35,498</td></tr><tr class=\"highlight-row\"><th class=\"align-left stub-indent1\" headers=\" 1_1  2_1  3_1  5_1  4_1 \">Nova Scotia  <a href=\"https://www150.statcan.gc.ca/g1/datatomap/index.html?action=wf_identify&value={'layers':[{'values':['2016A000212'],'id':'A0002'}]}\"target=\"_blank\" title=\"Opens Nova Scotia map in a new tab window.\">(map)</a></th><td class=\"align-right nowrap\">135,552</td><td class=\"align-right nowrap\">139,045</td><td class=\"align-right nowrap\">145,489</td><td class=\"align-right nowrap\">160,532</td><td class=\"align-right nowrap\">165,272</td></tr><tr class=\"highlight-row\"><th class=\"align-left stub-indent1\" headers=\" 1_1  2_1  3_1  5_1  4_1 \">New Brunswick  <a href=\"https://www150.statcan.gc.ca/g1/datatomap/index.html?action=wf_identify&value={'layers':[{'values':['2016A000213'],'id':'A0002'}]}\"target=\"_blank\" title=\"Opens New Brunswick map in a new tab window.\">(map)</a></th><td class=\"align-right nowrap\">94,193</td><td class=\"align-right nowrap\">104,928</td><td class=\"align-right nowrap\">104,685</td><td class=\"align-right nowrap\">118,078</td><td class=\"align-right nowrap\">119,241</td></tr><tr class=\"highlight-row\"><th class=\"align-left stub-indent1\" headers=\" 1_1  2_1  3_1  5_1  4_1 \">Quebec  <a href=\"https://www150.statcan.gc.ca/g1/datatomap/index.html?action=wf_identify&value={'layers':[{'values':['2016A000224'],'id':'A0002'}]}\"target=\"_blank\" title=\"Opens Quebec map in a new tab window.\">(map)</a></th><td class=\"align-right nowrap\">1,045,486</td><td class=\"align-right nowrap\">1,184,995</td><td class=\"align-right nowrap\">1,216,725</td><td class=\"align-right nowrap\">1,282,749</td><td class=\"align-right nowrap\">1,261,559</td></tr><tr class=\"highlight-row\"><th class=\"align-left stub-indent1\" headers=\" 1_1  2_1  3_1  5_1  4_1 \">Ontario  <a href=\"https://www150.statcan.gc.ca/g1/datatomap/index.html?action=wf_identify&value={'layers':[{'values':['2016A000235'],'id':'A0002'}]}\"target=\"_blank\" title=\"Opens Ontario map in a new tab window.\">(map)</a></th><td class=\"align-right nowrap\">2,249,101</td><td class=\"align-right nowrap\">2,481,495</td><td class=\"align-right nowrap\">2,577,105</td><td class=\"align-right nowrap\">2,536,167</td><td class=\"align-right nowrap\">2,599,309</td></tr><tr class=\"highlight-row\"><th class=\"align-left stub-indent1\" headers=\" 1_1  2_1  3_1  5_1  4_1 \">Manitoba  <a href=\"https://www150.statcan.gc.ca/g1/datatomap/index.html?action=wf_identify&value={'layers':[{'values':['2016A000246'],'id':'A0002'}]}\"target=\"_blank\" title=\"Opens Manitoba map in a new tab window.\">(map)</a></th><td class=\"align-right nowrap\">167,298</td><td class=\"align-right nowrap\">178,358</td><td class=\"align-right nowrap\">181,124</td><td class=\"align-right nowrap\">186,839</td><td class=\"align-right nowrap\">187,200</td></tr><tr class=\"highlight-row\"><th class=\"align-left stub-indent1\" headers=\" 1_1  2_1  3_1  5_1  4_1 \">Saskatchewan  <a href=\"https://www150.statcan.gc.ca/g1/datatomap/index.html?action=wf_identify&value={'layers':[{'values':['2016A000247'],'id':'A0002'}]}\"target=\"_blank\" title=\"Opens Saskatchewan map in a new tab window.\">(map)</a></th><td class=\"align-right nowrap\">162,051</td><td class=\"align-right nowrap\">168,657</td><td class=\"align-right nowrap\">168,672</td><td class=\"align-right nowrap\">164,878</td><td class=\"align-right nowrap\">172,228</td></tr><tr class=\"highlight-row\"><th class=\"align-left stub-indent1\" headers=\" 1_1  2_1  3_1  5_1  4_1 \">Alberta  <a href=\"https://www150.statcan.gc.ca/g1/datatomap/index.html?action=wf_identify&value={'layers':[{'values':['2016A000248'],'id':'A0002'}]}\"target=\"_blank\" title=\"Opens Alberta map in a new tab window.\">(map)</a></th><td class=\"align-right nowrap\">757,963</td><td class=\"align-right nowrap\">798,980</td><td class=\"align-right nowrap\">828,421</td><td class=\"align-right nowrap\">838,206</td><td class=\"align-right nowrap\">840,672</td></tr><tr class=\"highlight-row\"><th class=\"align-left stub-indent1\" headers=\" 1_1  2_1  3_1  5_1  4_1 \">British Columbia  <a href=\"https://www150.statcan.gc.ca/g1/datatomap/index.html?action=wf_identify&value={'layers':[{'values':['2016A000259'],'id':'A0002'}]}\"target=\"_blank\" title=\"Opens British Columbia map in a new tab window.\">(map)</a></th><td class=\"align-right nowrap\">946,303</td><td class=\"align-right nowrap\">1,030,795</td><td class=\"align-right nowrap\">1,068,815</td><td class=\"align-right nowrap\">1,129,911</td><td class=\"align-right nowrap\">1,169,220</td></tr><tr class=\"highlight-row\"><th class=\"align-left stub-indent1\" headers=\" 1_1  2_1  3_1  5_1  4_1 \">Yukon  <sup><a href=\"#Footnote3\" aria-controls=\"centred-popup\" class=\"wb-lbx\" role=\"button\" aria-label=\"Footnote 3\">3</a> </sup><a href=\"https://www150.statcan.gc.ca/g1/datatomap/index.html?action=wf_identify&value={'layers':[{'values':['2016A000260'],'id':'A0002'}]}\"target=\"_blank\" title=\"Opens Yukon map in a new tab window.\">(map)</a></th><td class=\"align-right nowrap\">5,426</td><td class=\"align-right nowrap\">6,375</td><td class=\"align-right nowrap\">8,188</td><td class=\"align-right nowrap\">9,046</td><td class=\"align-right nowrap\">8,608</td></tr><tr class=\"highlight-row\"><th class=\"align-left stub-indent1\" headers=\" 1_1  2_1  3_1  5_1  4_1 \">Northwest Territories  <sup><a href=\"#Footnote3\" aria-controls=\"centred-popup\" class=\"wb-lbx\" role=\"button\" aria-label=\"Footnote 3\">3</a> </sup><a href=\"https://www150.statcan.gc.ca/g1/datatomap/index.html?action=wf_identify&value={'layers':[{'values':['2016A000261'],'id':'A0002'}]}\"target=\"_blank\" title=\"Opens Northwest Territories map in a new tab window.\">(map)</a></th><td class=\"align-right nowrap\">8,573</td><td class=\"align-right nowrap\">8,836</td><td class=\"align-right nowrap\">9,050</td><td class=\"align-right nowrap\">9,003</td><td class=\"align-right nowrap\">9,476</td></tr><tr class=\"highlight-row\"><th class=\"align-left stub-indent1\" headers=\" 1_1  2_1  3_1  5_1  4_1 \">Nunavut  <sup><a href=\"#Footnote3\" aria-controls=\"centred-popup\" class=\"wb-lbx\" role=\"button\" aria-label=\"Footnote 3\">3</a> </sup><a href=\"https://www150.statcan.gc.ca/g1/datatomap/index.html?action=wf_identify&value={'layers':[{'values':['2016A000262'],'id':'A0002'}]}\"target=\"_blank\" title=\"Opens Nunavut map in a new tab window.\">(map)</a></th><td class=\"align-right nowrap\">2,083</td><td class=\"align-right nowrap\">2,863</td><td class=\"align-right nowrap\">2,755</td><td class=\"align-right nowrap\">2,736</td><td class=\"align-right nowrap\">2,823</td></tr></tbody></table>"
   ]
  },
  {
   "cell_type": "code",
   "execution_count": null,
   "metadata": {},
   "outputs": [],
   "source": []
  }
 ],
 "metadata": {
  "kernelspec": {
   "display_name": "Python 3",
   "language": "python",
   "name": "python3"
  },
  "language_info": {
   "codemirror_mode": {
    "name": "ipython",
    "version": 3
   },
   "file_extension": ".py",
   "mimetype": "text/x-python",
   "name": "python",
   "nbconvert_exporter": "python",
   "pygments_lexer": "ipython3",
   "version": "3.6.4"
  }
 },
 "nbformat": 4,
 "nbformat_minor": 2
}
